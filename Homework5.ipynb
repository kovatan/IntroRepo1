{
  "nbformat": 4,
  "nbformat_minor": 0,
  "metadata": {
    "colab": {
      "provenance": [],
      "authorship_tag": "ABX9TyNT74xtEEpRINE4G6eeE/R8",
      "include_colab_link": true
    },
    "kernelspec": {
      "name": "python3",
      "display_name": "Python 3"
    },
    "language_info": {
      "name": "python"
    }
  },
  "cells": [
    {
      "cell_type": "markdown",
      "metadata": {
        "id": "view-in-github",
        "colab_type": "text"
      },
      "source": [
        "<a href=\"https://colab.research.google.com/github/kovatan/IntroRepo1/blob/main/Homework5.ipynb\" target=\"_parent\"><img src=\"https://colab.research.google.com/assets/colab-badge.svg\" alt=\"Open In Colab\"/></a>"
      ]
    },
    {
      "cell_type": "code",
      "execution_count": null,
      "metadata": {
        "colab": {
          "base_uri": "https://localhost:8080/",
          "height": 35
        },
        "id": "LcGn4W9ZJso2",
        "outputId": "81d59596-ba8a-435a-9091-e22f1bb857fe"
      },
      "outputs": [
        {
          "output_type": "execute_result",
          "data": {
            "text/plain": [
              "'Hello, this is my first function'"
            ],
            "application/vnd.google.colaboratory.intrinsic+json": {
              "type": "string"
            }
          },
          "metadata": {},
          "execution_count": 8
        }
      ],
      "source": [
        "def my_function_1():\n",
        "    return(\"Hello, this is my first function\")\n",
        "my_function_1()"
      ]
    },
    {
      "cell_type": "code",
      "source": [
        "def my_function_2():\n",
        "    print(\"Hello, this is my second function\")\n",
        "my_function_2()"
      ],
      "metadata": {
        "colab": {
          "base_uri": "https://localhost:8080/"
        },
        "id": "rX1BWUhDLtHn",
        "outputId": "b0394344-754b-4fe8-85d7-7d913df21b68"
      },
      "execution_count": null,
      "outputs": [
        {
          "output_type": "stream",
          "name": "stdout",
          "text": [
            "Hello, this is my second function\n"
          ]
        }
      ]
    },
    {
      "cell_type": "code",
      "source": [
        "def my_function1():\n",
        "    print(\"Hello, this is my first function\")\n",
        "a=my_function1()\n",
        "print(a)"
      ],
      "metadata": {
        "id": "MM65pCq6Nas3",
        "colab": {
          "base_uri": "https://localhost:8080/"
        },
        "outputId": "2b9d8843-42da-4ffb-f967-2937ee68e0d5"
      },
      "execution_count": 1,
      "outputs": [
        {
          "output_type": "stream",
          "name": "stdout",
          "text": [
            "Hello, this is my first function\n",
            "None\n"
          ]
        }
      ]
    },
    {
      "cell_type": "code",
      "source": [
        "def my_function2():\n",
        "    message=\"Hello, this is my first function\"\n",
        "    return(message)\n",
        "b=my_function2()\n",
        "print(b)"
      ],
      "metadata": {
        "colab": {
          "base_uri": "https://localhost:8080/"
        },
        "id": "bn6nlv6-81xz",
        "outputId": "3670599f-81e6-46af-b90a-382a2bb284ad"
      },
      "execution_count": 2,
      "outputs": [
        {
          "output_type": "stream",
          "name": "stdout",
          "text": [
            "Hello, this is my first function\n"
          ]
        }
      ]
    },
    {
      "cell_type": "code",
      "source": [
        "def my_function(message):\n",
        "    return(message)\n",
        "my_message=\"Hello, this is my first function\"\n",
        "my_function(my_message)"
      ],
      "metadata": {
        "colab": {
          "base_uri": "https://localhost:8080/",
          "height": 35
        },
        "id": "lj8CPKl_850D",
        "outputId": "ed3abf0b-e3e3-41ad-8845-6ac00c496952"
      },
      "execution_count": 3,
      "outputs": [
        {
          "output_type": "execute_result",
          "data": {
            "text/plain": [
              "'Hello, this is my first function'"
            ],
            "application/vnd.google.colaboratory.intrinsic+json": {
              "type": "string"
            }
          },
          "metadata": {},
          "execution_count": 3
        }
      ]
    },
    {
      "cell_type": "code",
      "source": [
        "def area():\n",
        "    edge_length=int(input(\"Enter the number: \"))\n",
        "    square_area=edge_length **2\n",
        "    return(square_area)\n",
        "area()"
      ],
      "metadata": {
        "colab": {
          "base_uri": "https://localhost:8080/"
        },
        "id": "dSWymbvb8_46",
        "outputId": "8abec695-1056-4522-f01e-905bebf6f99d"
      },
      "execution_count": 4,
      "outputs": [
        {
          "name": "stdout",
          "output_type": "stream",
          "text": [
            "Enter the number: 18\n"
          ]
        },
        {
          "output_type": "execute_result",
          "data": {
            "text/plain": [
              "324"
            ]
          },
          "metadata": {},
          "execution_count": 4
        }
      ]
    },
    {
      "cell_type": "code",
      "source": [
        "def converttoEuro():\n",
        "    amount = int(input('How much dollar you want to convert?\\n'))\n",
        "    x= 1 * 15\n",
        "    euro = x * 0.05\n",
        "    output = amount * x * euro\n",
        "    print(output)\n",
        "converttoEuro()"
      ],
      "metadata": {
        "colab": {
          "base_uri": "https://localhost:8080/"
        },
        "id": "RQrxOgXJ9IJ1",
        "outputId": "4e199db1-35fa-4f41-bb94-5ab21628f0cb"
      },
      "execution_count": 5,
      "outputs": [
        {
          "output_type": "stream",
          "name": "stdout",
          "text": [
            "How much dollar you want to convert?\n",
            "100\n",
            "1125.0\n"
          ]
        }
      ]
    },
    {
      "cell_type": "code",
      "source": [
        "def circle():\n",
        "    radius = float(input('What is the radius?\\n'))\n",
        "    #area= 3.14 * radius * radius\n",
        "    S = 3.14 * (radius ** 2)\n",
        "    L =2 * 3.14 * radius\n",
        "    print(\"The area is {} the circumference is {}\".format(S,L))\n",
        "    circle()"
      ],
      "metadata": {
        "id": "KuSXHxIS9PGt"
      },
      "execution_count": 9,
      "outputs": []
    },
    {
      "cell_type": "code",
      "source": [
        "def big_number():\n",
        "    a = int(input('Please type your first number:\\n'))\n",
        "    b = int(input('Please type your second number:\\n'))\n",
        "    if b > a:\n",
        "        return b\n",
        "    elif a > b:\n",
        "        return a\n",
        "    else:\n",
        "        return (\"{0} is equal to {1}\".format(a,b))\n",
        "big_number()"
      ],
      "metadata": {
        "colab": {
          "base_uri": "https://localhost:8080/"
        },
        "id": "MNzu42ET9b2A",
        "outputId": "80a12723-ef46-4829-cd35-41c0c115bda5"
      },
      "execution_count": 10,
      "outputs": [
        {
          "name": "stdout",
          "output_type": "stream",
          "text": [
            "Please type your first number:\n",
            "5\n",
            "Please type your second number:\n",
            "9\n"
          ]
        },
        {
          "output_type": "execute_result",
          "data": {
            "text/plain": [
              "9"
            ]
          },
          "metadata": {},
          "execution_count": 10
        }
      ]
    },
    {
      "cell_type": "code",
      "source": [
        "def big_number():\n",
        "    output=\"\"\n",
        "    a = int(input('Please type your first number:\\n'))\n",
        "    b = int(input('Please type your second number:\\n'))\n",
        "    if b > a:\n",
        "        output = b\n",
        "    elif a > b:\n",
        "        output = a\n",
        "    else:\n",
        "        output = (\"{0} is equal to {1}\".format(a,b))\n",
        "    return output\n",
        "big_number()"
      ],
      "metadata": {
        "colab": {
          "base_uri": "https://localhost:8080/"
        },
        "id": "i1eAu-5F9hlU",
        "outputId": "01f72042-1c57-4774-ad5d-8917c78f02d0"
      },
      "execution_count": 11,
      "outputs": [
        {
          "name": "stdout",
          "output_type": "stream",
          "text": [
            "Please type your first number:\n",
            "7\n",
            "Please type your second number:\n",
            "9\n"
          ]
        },
        {
          "output_type": "execute_result",
          "data": {
            "text/plain": [
              "9"
            ]
          },
          "metadata": {},
          "execution_count": 11
        }
      ]
    },
    {
      "cell_type": "code",
      "source": [
        "def was_it_sunny(it_was):\n",
        "    if it_was==True:\n",
        "        print(\"Yes\")\n",
        "    else:\n",
        "        print(\"No\")\n",
        "was_it_sunny(True)\n",
        "was_it_sunny(False)"
      ],
      "metadata": {
        "colab": {
          "base_uri": "https://localhost:8080/"
        },
        "id": "SN_qrL5e9nuu",
        "outputId": "6b680014-6faa-4725-a3b2-8b2649c760c0"
      },
      "execution_count": 12,
      "outputs": [
        {
          "output_type": "stream",
          "name": "stdout",
          "text": [
            "Yes\n",
            "No\n"
          ]
        }
      ]
    },
    {
      "cell_type": "code",
      "source": [
        "def timefor():\n",
        "    hour = int(input('What is the hour? (0,24):\\n'))\n",
        "    if hour in range(0,24):\n",
        "            if hour in range(7,12):\n",
        "                print('It’s breakfast time')\n",
        "            elif hour in range(12,17):\n",
        "                print('It’s lunch time')\n",
        "            elif hour in range(17,23):\n",
        "                print('It’s dinner time')\n",
        "            else:\n",
        "                print('It’s sleeping time')\n",
        "    else:\n",
        "        print (\"Error: not valid number, try again\")\n",
        "\n",
        "timefor()"
      ],
      "metadata": {
        "colab": {
          "base_uri": "https://localhost:8080/"
        },
        "id": "fK1NxhsD9qwK",
        "outputId": "bbff1e0c-0474-4159-d146-c77dfac57092"
      },
      "execution_count": 13,
      "outputs": [
        {
          "output_type": "stream",
          "name": "stdout",
          "text": [
            "What is the hour? (0,24):\n",
            "19\n",
            "It’s dinner time\n"
          ]
        }
      ]
    },
    {
      "cell_type": "code",
      "source": [
        "first_names=[\"Nesli\", \"Felix\", \"John\", \"Patrick\"]\n",
        "def greet(names):\n",
        "    for i in names:\n",
        "        print(f\"Hello, {i}\")\n",
        "greet(first_names)"
      ],
      "metadata": {
        "colab": {
          "base_uri": "https://localhost:8080/"
        },
        "id": "nEJ4qx4D9wYG",
        "outputId": "97bfae60-0421-4407-b93d-6de7a1a4af48"
      },
      "execution_count": 14,
      "outputs": [
        {
          "output_type": "stream",
          "name": "stdout",
          "text": [
            "Hello, Nesli\n",
            "Hello, Felix\n",
            "Hello, John\n",
            "Hello, Patrick\n"
          ]
        }
      ]
    },
    {
      "cell_type": "code",
      "source": [
        "\n",
        "def fruits(a,b,c):\n",
        "    return(list((a,b,c)))\n",
        "fruits(\"apple\",\"banana\",\"cherry\")"
      ],
      "metadata": {
        "colab": {
          "base_uri": "https://localhost:8080/"
        },
        "id": "5MRZZfKU9yja",
        "outputId": "e01b15f0-605f-4041-cd3b-104897c8e599"
      },
      "execution_count": 15,
      "outputs": [
        {
          "output_type": "execute_result",
          "data": {
            "text/plain": [
              "['apple', 'banana', 'cherry']"
            ]
          },
          "metadata": {},
          "execution_count": 15
        }
      ]
    },
    {
      "cell_type": "code",
      "source": [
        "def longer_string(s1, s2):\n",
        "    if len(s1) > len(s2):\n",
        "        print('String 1 is longer: ', s1)\n",
        "    elif len(s1) < len(s2):\n",
        "        print('String 2 is longer: ', s2)\n",
        "    else:\n",
        "        print('Strings length are equal!', s1)\n",
        "longer_string(\"Nesli\", \"hello\")"
      ],
      "metadata": {
        "colab": {
          "base_uri": "https://localhost:8080/"
        },
        "id": "B91wYQGy91UG",
        "outputId": "c555de74-bf29-44f2-9220-5580e78b257d"
      },
      "execution_count": 16,
      "outputs": [
        {
          "output_type": "stream",
          "name": "stdout",
          "text": [
            "Strings length are equal! Nesli\n"
          ]
        }
      ]
    },
    {
      "cell_type": "code",
      "source": [
        "def longer_string(s1, s2):\n",
        "    if len(s1) < len(s2):\n",
        "        print(s2)\n",
        "    else:\n",
        "        print(s1)\n",
        "longer_string(\"Nesli\", \"hello\")"
      ],
      "metadata": {
        "colab": {
          "base_uri": "https://localhost:8080/"
        },
        "id": "DzF8mtBF95UZ",
        "outputId": "addc6a37-4559-41ae-98ac-137cff7a5753"
      },
      "execution_count": 17,
      "outputs": [
        {
          "output_type": "stream",
          "name": "stdout",
          "text": [
            "Nesli\n"
          ]
        }
      ]
    },
    {
      "cell_type": "code",
      "source": [
        "numbers = (1, 2, 3, 4, 5, 6, 7, 8, 9)\n",
        "count_odd = 0\n",
        "count_even = 0\n",
        "even=[]\n",
        "odd=[]\n",
        "for x in numbers:\n",
        "        if not x % 2:\n",
        "            count_even+=1\n",
        "            print(\"Even\", x)\n",
        "        else:\n",
        "            count_odd+=1\n",
        "            print(\"Odd\",x)\n",
        "print(\"Number of even numbers :\",count_even)\n",
        "print(\"Number of odd numbers :\",count_odd)"
      ],
      "metadata": {
        "colab": {
          "base_uri": "https://localhost:8080/"
        },
        "id": "KR_zkSZ098i1",
        "outputId": "1d744a3c-703f-4acc-c531-c9788974d492"
      },
      "execution_count": 19,
      "outputs": [
        {
          "output_type": "stream",
          "name": "stdout",
          "text": [
            "Odd 1\n",
            "Even 2\n",
            "Odd 3\n",
            "Even 4\n",
            "Odd 5\n",
            "Even 6\n",
            "Odd 7\n",
            "Even 8\n",
            "Odd 9\n",
            "Number of even numbers : 4\n",
            "Number of odd numbers : 5\n"
          ]
        }
      ]
    },
    {
      "cell_type": "code",
      "source": [
        "def is_odd(num):\n",
        "    mod = num % 2\n",
        "    if mod != 0:\n",
        "        print(True)\n",
        "    else:\n",
        "        print(False)\n",
        "is_odd(3)"
      ],
      "metadata": {
        "colab": {
          "base_uri": "https://localhost:8080/"
        },
        "id": "2Is3x2vS-BKl",
        "outputId": "7af6c701-98b4-4f07-da78-1859eaf6b541"
      },
      "execution_count": 20,
      "outputs": [
        {
          "output_type": "stream",
          "name": "stdout",
          "text": [
            "True\n"
          ]
        }
      ]
    }
  ]
}