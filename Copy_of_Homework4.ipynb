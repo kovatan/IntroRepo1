{
  "nbformat": 4,
  "nbformat_minor": 0,
  "metadata": {
    "colab": {
      "provenance": [],
      "authorship_tag": "ABX9TyMfVkMrX91AnONoPp/PO6r2",
      "include_colab_link": true
    },
    "kernelspec": {
      "name": "python3",
      "display_name": "Python 3"
    },
    "language_info": {
      "name": "python"
    }
  },
  "cells": [
    {
      "cell_type": "markdown",
      "metadata": {
        "id": "view-in-github",
        "colab_type": "text"
      },
      "source": [
        "<a href=\"https://colab.research.google.com/github/kovatan/IntroRepo1/blob/main/Copy_of_Homework4.ipynb\" target=\"_parent\"><img src=\"https://colab.research.google.com/assets/colab-badge.svg\" alt=\"Open In Colab\"/></a>"
      ]
    },
    {
      "cell_type": "code",
      "execution_count": null,
      "metadata": {
        "colab": {
          "base_uri": "https://localhost:8080/"
        },
        "id": "q5YTsndCe4RG",
        "outputId": "0e67d703-20a4-4873-823e-5c0b1ad00b9d"
      },
      "outputs": [
        {
          "output_type": "stream",
          "name": "stdout",
          "text": [
            "Enter an integer: 12\n",
            "Number: 12\n",
            "Enter an integer: 2\n",
            "Number is less than 10. Skipping.\n",
            "Enter an integer: 101\n",
            "Number is greater than 100. Program finished.\n"
          ]
        }
      ],
      "source": [
        "while True:\n",
        "    try:\n",
        "        num = int(input(\"Enter an integer: \"))\n",
        "    except ValueError:\n",
        "        print(\"Invalid input. Please enter an integer.\")\n",
        "        continue\n",
        "    if num < 10:\n",
        "        print(\"Number is less than 10. Skipping.\")\n",
        "        continue\n",
        "    elif num > 100:\n",
        "        print(\"Number is greater than 100. Program finished.\")\n",
        "        break\n",
        "    else:\n",
        "        print(\"Number:\", num)"
      ]
    },
    {
      "cell_type": "code",
      "source": [
        "while True:\n",
        "  try:\n",
        "       num1 = int(input(\"Enter an integer: \"))\n",
        "       num2 = int(input(\"Enter an integer: \"))\n",
        "       list = [num1, num2]\n",
        "       print(list)\n",
        "       sum = num1 + num2\n",
        "  except ValueError:\n",
        "        print(\"Invalid input. Please enter an integer.\")\n",
        "        continue\n",
        "  if sum != 0:\n",
        "       continue\n",
        "  elif sum == 0:\n",
        "       break\n",
        "       print(sorted(list))"
      ],
      "metadata": {
        "colab": {
          "base_uri": "https://localhost:8080/"
        },
        "id": "rcbLfKrrgOFv",
        "outputId": "ccefe7d4-4c13-467b-fc09-77db24ccd2bd"
      },
      "execution_count": null,
      "outputs": [
        {
          "output_type": "stream",
          "name": "stdout",
          "text": [
            "Enter an integer: 1\n",
            "Enter an integer: 2\n",
            "[1, 2]\n",
            "Enter an integer: 4\n",
            "Enter an integer: -4\n",
            "[4, -4]\n"
          ]
        }
      ]
    },
    {
      "cell_type": "code",
      "source": [
        "list_numbers = list(eval(input('Enter a list of numbers\\n')))\n",
        "print(list_numbers)"
      ],
      "metadata": {
        "id": "O6ftEo--_eWm",
        "outputId": "bfba0abf-09f1-4dd1-ab61-90dab27022c4",
        "colab": {
          "base_uri": "https://localhost:8080/"
        }
      },
      "execution_count": null,
      "outputs": [
        {
          "output_type": "stream",
          "name": "stdout",
          "text": [
            "Enter a list of numbers\n",
            "1,3,5,6,10\n",
            "[1, 3, 5, 6, 10]\n"
          ]
        }
      ]
    }
  ]
}