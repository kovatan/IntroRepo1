{
  "nbformat": 4,
  "nbformat_minor": 0,
  "metadata": {
    "colab": {
      "provenance": [],
      "authorship_tag": "ABX9TyOxFg/5Jb4FfHJ2wDKYsllM",
      "include_colab_link": true
    },
    "kernelspec": {
      "name": "python3",
      "display_name": "Python 3"
    },
    "language_info": {
      "name": "python"
    }
  },
  "cells": [
    {
      "cell_type": "markdown",
      "metadata": {
        "id": "view-in-github",
        "colab_type": "text"
      },
      "source": [
        "<a href=\"https://colab.research.google.com/github/kovatan/IntroRepo1/blob/main/Homework4.ipynb\" target=\"_parent\"><img src=\"https://colab.research.google.com/assets/colab-badge.svg\" alt=\"Open In Colab\"/></a>"
      ]
    },
    {
      "cell_type": "code",
      "execution_count": null,
      "metadata": {
        "colab": {
          "base_uri": "https://localhost:8080/"
        },
        "id": "q5YTsndCe4RG",
        "outputId": "0e67d703-20a4-4873-823e-5c0b1ad00b9d"
      },
      "outputs": [
        {
          "output_type": "stream",
          "name": "stdout",
          "text": [
            "Enter an integer: 12\n",
            "Number: 12\n",
            "Enter an integer: 2\n",
            "Number is less than 10. Skipping.\n",
            "Enter an integer: 101\n",
            "Number is greater than 100. Program finished.\n"
          ]
        }
      ],
      "source": [
        "while True:\n",
        "    try:\n",
        "        num = int(input(\"Enter an integer: \"))\n",
        "    except ValueError:\n",
        "        print(\"Invalid input. Please enter an integer.\")\n",
        "        continue\n",
        "    if num < 10:\n",
        "        print(\"Number is less than 10. Skipping.\")\n",
        "        continue\n",
        "    elif num > 100:\n",
        "        print(\"Number is greater than 100. Program finished.\")\n",
        "        break\n",
        "    else:\n",
        "        print(\"Number:\", num)"
      ]
    },
    {
      "cell_type": "code",
      "source": [
        "while True:\n",
        "  try:\n",
        "       a = int(input(\"Enter an integer: \"))\n",
        "       b = int(input(\"Enter an integer: \"))\n",
        "       total_sum = a + b\n",
        "       print(total_sum)\n",
        "       if total_sum != 0:\n",
        "          print(a, b)\n",
        "          continue\n",
        "        elif total_sum == 0:\n",
        "          print(a, b)\n",
        "          break"
      ],
      "metadata": {
        "colab": {
          "base_uri": "https://localhost:8080/",
          "height": 141
        },
        "id": "rcbLfKrrgOFv",
        "outputId": "a1ec09c2-bc07-4568-fb7b-0a8ead3680a3"
      },
      "execution_count": 50,
      "outputs": [
        {
          "output_type": "error",
          "ename": "IndentationError",
          "evalue": "ignored",
          "traceback": [
            "\u001b[0;36m  File \u001b[0;32m\"<tokenize>\"\u001b[0;36m, line \u001b[0;32m10\u001b[0m\n\u001b[0;31m    elif total_sum == 0:\u001b[0m\n\u001b[0m    ^\u001b[0m\n\u001b[0;31mIndentationError\u001b[0m\u001b[0;31m:\u001b[0m unindent does not match any outer indentation level\n"
          ]
        }
      ]
    }
  ]
}