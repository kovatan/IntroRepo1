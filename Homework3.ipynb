{
  "nbformat": 4,
  "nbformat_minor": 0,
  "metadata": {
    "colab": {
      "provenance": [],
      "authorship_tag": "ABX9TyMWtvYvAp9hSXNGL2Bk7onD",
      "include_colab_link": true
    },
    "kernelspec": {
      "name": "python3",
      "display_name": "Python 3"
    },
    "language_info": {
      "name": "python"
    }
  },
  "cells": [
    {
      "cell_type": "markdown",
      "metadata": {
        "id": "view-in-github",
        "colab_type": "text"
      },
      "source": [
        "<a href=\"https://colab.research.google.com/github/kovatan/IntroRepo1/blob/main/Homework3.ipynb\" target=\"_parent\"><img src=\"https://colab.research.google.com/assets/colab-badge.svg\" alt=\"Open In Colab\"/></a>"
      ]
    },
    {
      "cell_type": "code",
      "execution_count": 8,
      "metadata": {
        "colab": {
          "base_uri": "https://localhost:8080/",
          "height": 52
        },
        "id": "41uRoSwuPNrd",
        "outputId": "91f2f45e-1326-4f91-f48d-6c3eb02a2982"
      },
      "outputs": [
        {
          "output_type": "stream",
          "name": "stdout",
          "text": [
            "8\n"
          ]
        },
        {
          "output_type": "execute_result",
          "data": {
            "text/plain": [
              "'Deniz'"
            ],
            "application/vnd.google.colaboratory.intrinsic+json": {
              "type": "string"
            }
          },
          "metadata": {},
          "execution_count": 8
        }
      ],
      "source": [
        "first_names = ['Deniz', 'Rachel', 'Olivia', 'Oksana', 'Milena', 'Amy', 'Usman', 'Anika']\n",
        "print(len(first_names))\n",
        "first_names[0]"
      ]
    },
    {
      "cell_type": "code",
      "source": [
        "first_names = ['Deniz', 'Rachel', 'Olivia', 'Oksana', 'Milena', 'Amy', 'Usman', 'Anika']\n",
        "first_names[0:2]"
      ],
      "metadata": {
        "colab": {
          "base_uri": "https://localhost:8080/"
        },
        "id": "FHOg6ILlTFwq",
        "outputId": "11508529-3b2f-4be8-a64a-01674d5ba325"
      },
      "execution_count": 9,
      "outputs": [
        {
          "output_type": "execute_result",
          "data": {
            "text/plain": [
              "['Deniz', 'Rachel']"
            ]
          },
          "metadata": {},
          "execution_count": 9
        }
      ]
    },
    {
      "cell_type": "code",
      "source": [
        "first_names = ['Deniz', 'Rachel', 'Olivia', 'Oksana', 'Milena', 'Amy', 'Usman', 'Anika']\n",
        "first_names.append('Tetyana')\n",
        "print(first_names)"
      ],
      "metadata": {
        "colab": {
          "base_uri": "https://localhost:8080/"
        },
        "id": "xSThQr2UTq9h",
        "outputId": "1dc718e9-5899-44cd-8b06-30710f8f6e01"
      },
      "execution_count": 12,
      "outputs": [
        {
          "output_type": "stream",
          "name": "stdout",
          "text": [
            "['Deniz', 'Rachel', 'Olivia', 'Oksana', 'Milena', 'Amy', 'Usman', 'Anika', 'Tetyana']\n"
          ]
        }
      ]
    },
    {
      "cell_type": "code",
      "source": [
        "first_names = ['Deniz', 'Rachel', 'Olivia', 'Oksana', 'Milena', 'Amy', 'Usman', 'Anika']\n",
        "first_names.remove('Anika')\n",
        "print(first_names)"
      ],
      "metadata": {
        "colab": {
          "base_uri": "https://localhost:8080/"
        },
        "id": "QnvQvAYCUDRA",
        "outputId": "54d6257d-2213-4174-f0fc-eafd7f088bfa"
      },
      "execution_count": 13,
      "outputs": [
        {
          "output_type": "stream",
          "name": "stdout",
          "text": [
            "['Deniz', 'Rachel', 'Olivia', 'Oksana', 'Milena', 'Amy', 'Usman']\n"
          ]
        }
      ]
    },
    {
      "cell_type": "code",
      "source": [
        "person = {\"first_name\" : \"Tetyana\", \"last_name\" : \"Kovalenko\"}\n",
        "print(person)\n",
        "list(person.values())"
      ],
      "metadata": {
        "colab": {
          "base_uri": "https://localhost:8080/"
        },
        "id": "4kxIKkCEUpgP",
        "outputId": "92d8b32c-5218-405d-badb-6e0e150beeb3"
      },
      "execution_count": 20,
      "outputs": [
        {
          "output_type": "stream",
          "name": "stdout",
          "text": [
            "{'first_name': 'Tetyana', 'last_name': 'Kovalenko'}\n"
          ]
        },
        {
          "output_type": "execute_result",
          "data": {
            "text/plain": [
              "['Tetyana', 'Kovalenko']"
            ]
          },
          "metadata": {},
          "execution_count": 20
        }
      ]
    },
    {
      "cell_type": "code",
      "source": [
        "boolean_var=False\n",
        "print(not boolean_var)"
      ],
      "metadata": {
        "colab": {
          "base_uri": "https://localhost:8080/"
        },
        "id": "jvMgbhTiWl6w",
        "outputId": "a2c8b5fc-81f1-4f18-fea6-10cd72e21926"
      },
      "execution_count": 21,
      "outputs": [
        {
          "output_type": "stream",
          "name": "stdout",
          "text": [
            "True\n"
          ]
        }
      ]
    },
    {
      "cell_type": "code",
      "source": [
        "first_names_tuple = ('Deniz', 'Rachel', 'Olivia', 'Oksana', 'Milena', 'Amy', 'Usman', 'Anika')\n",
        "print(first_names_tuple)\n",
        "print(len(first_names_tuple))\n",
        "print(first_names_tuple[0])\n",
        "print(first_names_tuple[7])\n",
        "print(first_names_tuple[1:3])\n",
        "if 'Oksana' in first_names_tuple:\n",
        "  print('Yes, Oksana is in our group')"
      ],
      "metadata": {
        "colab": {
          "base_uri": "https://localhost:8080/"
        },
        "id": "zR6VIvYuXR78",
        "outputId": "5a05e61b-60c1-4770-ff95-33cc1e956b56"
      },
      "execution_count": 35,
      "outputs": [
        {
          "output_type": "stream",
          "name": "stdout",
          "text": [
            "('Deniz', 'Rachel', 'Olivia', 'Oksana', 'Milena', 'Amy', 'Usman', 'Anika')\n",
            "8\n",
            "Deniz\n",
            "Anika\n",
            "('Rachel', 'Olivia')\n",
            "Yes, Oksana is in our group\n"
          ]
        }
      ]
    },
    {
      "cell_type": "code",
      "source": [
        "first_names_set = {\"Deniz\", \"Rachel\", \"Olivia\", \"Oksana\", \"Milena\", \"Amy\", \"Usman\", \"Anika\"}\n",
        "print(first_names_set)\n",
        "first_names_set = set((\"Deniz\", \"Rachel\", \"Olivia\", \"Oksana\", \"Milena\", \"Amy\", \"Usman\", \"Anika\"))\n",
        "print(first_names_set)\n",
        "if \"Oksana\" in first_names_set:\n",
        "  print('Yes, Oksana is in our group')\n",
        "first_names_set.add(\"Nesli\")\n",
        "print(first_names_set)"
      ],
      "metadata": {
        "colab": {
          "base_uri": "https://localhost:8080/"
        },
        "id": "asehpukyZ3E8",
        "outputId": "e3b9ef49-63fa-4da9-98c6-92729899c9b0"
      },
      "execution_count": 40,
      "outputs": [
        {
          "output_type": "stream",
          "name": "stdout",
          "text": [
            "{'Milena', 'Anika', 'Amy', 'Usman', 'Olivia', 'Deniz', 'Rachel', 'Oksana'}\n",
            "{'Milena', 'Anika', 'Amy', 'Usman', 'Olivia', 'Deniz', 'Rachel', 'Oksana'}\n",
            "Yes, Oksana is in our group\n",
            "{'Milena', 'Anika', 'Amy', 'Usman', 'Nesli', 'Olivia', 'Deniz', 'Rachel', 'Oksana'}\n"
          ]
        }
      ]
    }
  ]
}