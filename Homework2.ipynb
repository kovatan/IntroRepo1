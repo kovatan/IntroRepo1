{
  "nbformat": 4,
  "nbformat_minor": 0,
  "metadata": {
    "colab": {
      "provenance": [],
      "authorship_tag": "ABX9TyNiRMF119fcO/1ruUKXuYap",
      "include_colab_link": true
    },
    "kernelspec": {
      "name": "python3",
      "display_name": "Python 3"
    },
    "language_info": {
      "name": "python"
    }
  },
  "cells": [
    {
      "cell_type": "markdown",
      "metadata": {
        "id": "view-in-github",
        "colab_type": "text"
      },
      "source": [
        "<a href=\"https://colab.research.google.com/github/kovatan/IntroRepo1/blob/main/Homework2.ipynb\" target=\"_parent\"><img src=\"https://colab.research.google.com/assets/colab-badge.svg\" alt=\"Open In Colab\"/></a>"
      ]
    },
    {
      "cell_type": "code",
      "execution_count": 1,
      "metadata": {
        "colab": {
          "base_uri": "https://localhost:8080/"
        },
        "id": "ZbXcfFrBDrtm",
        "outputId": "8cf1a949-575d-4542-ed68-77fa0c449d45"
      },
      "outputs": [
        {
          "output_type": "stream",
          "name": "stdout",
          "text": [
            "Intro to CS\n"
          ]
        }
      ],
      "source": [
        "our_class=\"Intro to CS\"\n",
        "print(our_class)"
      ]
    },
    {
      "cell_type": "code",
      "source": [
        "a=5\n",
        "b=5\n",
        "print(a,b)"
      ],
      "metadata": {
        "colab": {
          "base_uri": "https://localhost:8080/"
        },
        "id": "JSoWT6zpENIs",
        "outputId": "c352db51-8a29-4b49-b593-11a02decb2cf"
      },
      "execution_count": 2,
      "outputs": [
        {
          "output_type": "stream",
          "name": "stdout",
          "text": [
            "5 5\n"
          ]
        }
      ]
    },
    {
      "cell_type": "code",
      "source": [
        "c=2+4\n",
        "print(c)\n",
        "print(c+2)\n",
        "print(a+c)\n",
        "c+=2\n",
        "print(c)"
      ],
      "metadata": {
        "colab": {
          "base_uri": "https://localhost:8080/"
        },
        "id": "6b0HAyN3ERZB",
        "outputId": "d3e5ba85-93dd-4808-9d45-8fdee142303c"
      },
      "execution_count": 3,
      "outputs": [
        {
          "output_type": "stream",
          "name": "stdout",
          "text": [
            "6\n",
            "8\n",
            "11\n",
            "8\n"
          ]
        }
      ]
    },
    {
      "cell_type": "code",
      "source": [
        "d=4-3\n",
        "print(d)\n",
        "print(d-a)\n",
        "d-=2\n",
        "print(d)"
      ],
      "metadata": {
        "colab": {
          "base_uri": "https://localhost:8080/"
        },
        "id": "Iu4ApjsFEd5q",
        "outputId": "b369b976-7bfb-4985-cf4f-fdd6c6c0d283"
      },
      "execution_count": 4,
      "outputs": [
        {
          "output_type": "stream",
          "name": "stdout",
          "text": [
            "1\n",
            "-4\n",
            "-1\n"
          ]
        }
      ]
    },
    {
      "cell_type": "code",
      "source": [
        "e=3*9\n",
        "print(e)\n",
        "print(e*a)\n",
        "e*=2\n",
        "print(e)"
      ],
      "metadata": {
        "colab": {
          "base_uri": "https://localhost:8080/"
        },
        "id": "l5tyLQzhEoCZ",
        "outputId": "44f3c935-9aa2-4f9a-efe7-4b1567b2ce97"
      },
      "execution_count": 5,
      "outputs": [
        {
          "output_type": "stream",
          "name": "stdout",
          "text": [
            "27\n",
            "135\n",
            "54\n"
          ]
        }
      ]
    },
    {
      "cell_type": "code",
      "source": [
        "f=9/3\n",
        "print(f)\n",
        "print(f/a)\n",
        "f/=2\n",
        "print(f)"
      ],
      "metadata": {
        "colab": {
          "base_uri": "https://localhost:8080/"
        },
        "id": "mWlZdmwFIb88",
        "outputId": "63328a5e-359f-4608-8ec5-ae14fa159c1f"
      },
      "execution_count": 6,
      "outputs": [
        {
          "output_type": "stream",
          "name": "stdout",
          "text": [
            "3.0\n",
            "0.6\n",
            "1.5\n"
          ]
        }
      ]
    },
    {
      "cell_type": "code",
      "source": [
        "print(5 % 2)\n",
        "print(2 * 2)\n",
        "print(5 - 4)"
      ],
      "metadata": {
        "colab": {
          "base_uri": "https://localhost:8080/"
        },
        "id": "o3tVwY7iIxlB",
        "outputId": "607f5d1e-467b-4fdd-c661-e9929fdff959"
      },
      "execution_count": 7,
      "outputs": [
        {
          "output_type": "stream",
          "name": "stdout",
          "text": [
            "1\n",
            "4\n",
            "1\n"
          ]
        }
      ]
    },
    {
      "cell_type": "code",
      "source": [
        "print(17 % 2 )\n",
        "print(48 % 2 )"
      ],
      "metadata": {
        "colab": {
          "base_uri": "https://localhost:8080/"
        },
        "id": "Cydkvvw6I3CR",
        "outputId": "fc9421a8-bc84-419e-8675-a220d4639921"
      },
      "execution_count": 8,
      "outputs": [
        {
          "output_type": "stream",
          "name": "stdout",
          "text": [
            "1\n",
            "0\n"
          ]
        }
      ]
    },
    {
      "cell_type": "code",
      "source": [
        "a = 6\n",
        "mod_output = 9 % a\n",
        "print(mod_output)"
      ],
      "metadata": {
        "colab": {
          "base_uri": "https://localhost:8080/"
        },
        "id": "TB3eqdrXJBjH",
        "outputId": "a2caf990-17fa-4181-8887-43a9e8c497bd"
      },
      "execution_count": 9,
      "outputs": [
        {
          "output_type": "stream",
          "name": "stdout",
          "text": [
            "3\n"
          ]
        }
      ]
    },
    {
      "cell_type": "code",
      "source": [
        "my_first_name= 'Tetyana'\n",
        "my_last_name= 'Kovalenko'\n",
        "print(my_first_name)\n",
        "print(my_last_name)"
      ],
      "metadata": {
        "colab": {
          "base_uri": "https://localhost:8080/"
        },
        "id": "dV2AtRfhJYrA",
        "outputId": "5ac93484-402a-4367-c92b-f60f810633b7"
      },
      "execution_count": 10,
      "outputs": [
        {
          "output_type": "stream",
          "name": "stdout",
          "text": [
            "Tetyana\n",
            "Kovalenko\n"
          ]
        }
      ]
    },
    {
      "cell_type": "code",
      "source": [
        "my_fullname= my_first_name + ' ' +my_last_name\n",
        "print(my_fullname)"
      ],
      "metadata": {
        "colab": {
          "base_uri": "https://localhost:8080/"
        },
        "id": "3jXQUIylJkAh",
        "outputId": "014bfa11-0ebe-4bfb-981b-963874147d10"
      },
      "execution_count": 11,
      "outputs": [
        {
          "output_type": "stream",
          "name": "stdout",
          "text": [
            "Tetyana Kovalenko\n"
          ]
        }
      ]
    },
    {
      "cell_type": "code",
      "source": [
        "my_first_name += ' is awesome'\n",
        "print(my_first_name)"
      ],
      "metadata": {
        "colab": {
          "base_uri": "https://localhost:8080/"
        },
        "id": "4yWZKUfsJ4jt",
        "outputId": "ec1218ae-5a72-4f95-def0-5dcb1faa7472"
      },
      "execution_count": 12,
      "outputs": [
        {
          "output_type": "stream",
          "name": "stdout",
          "text": [
            "Tetyana is awesome\n"
          ]
        }
      ]
    },
    {
      "cell_type": "code",
      "source": [
        "empty = ''\n",
        "language = \"Python\"\n",
        "sentence = \"I'm a really long sentence\""
      ],
      "metadata": {
        "id": "iYrXTDAhKI44"
      },
      "execution_count": 15,
      "outputs": []
    },
    {
      "cell_type": "code",
      "source": [
        "print(len(empty))\n",
        "print(len(language))\n",
        "print(len(sentence))\n",
        "total_lenght= len(empty) + len(language) + len(sentence)\n",
        "print(total_lenght)"
      ],
      "metadata": {
        "colab": {
          "base_uri": "https://localhost:8080/"
        },
        "id": "IxJbcDlVKMD5",
        "outputId": "4b00ffd6-5d28-410a-82c8-e74aeeb8e870"
      },
      "execution_count": 16,
      "outputs": [
        {
          "output_type": "stream",
          "name": "stdout",
          "text": [
            "0\n",
            "6\n",
            "26\n",
            "32\n"
          ]
        }
      ]
    },
    {
      "cell_type": "code",
      "source": [
        "word='Hello'\n",
        "word[0]"
      ],
      "metadata": {
        "colab": {
          "base_uri": "https://localhost:8080/",
          "height": 35
        },
        "id": "P0-j4Ag4KweY",
        "outputId": "919eb6fd-bec3-4994-ae92-17f4f89b84e3"
      },
      "execution_count": 17,
      "outputs": [
        {
          "output_type": "execute_result",
          "data": {
            "text/plain": [
              "'H'"
            ],
            "application/vnd.google.colaboratory.intrinsic+json": {
              "type": "string"
            }
          },
          "metadata": {},
          "execution_count": 17
        }
      ]
    },
    {
      "cell_type": "code",
      "source": [
        "only_really=sentence[6:12]\n",
        "print(only_really)"
      ],
      "metadata": {
        "colab": {
          "base_uri": "https://localhost:8080/"
        },
        "id": "2yyukYlwLEdh",
        "outputId": "5e79b26a-2cdb-46ba-8850-aa5789ebedbb"
      },
      "execution_count": 18,
      "outputs": [
        {
          "output_type": "stream",
          "name": "stdout",
          "text": [
            "really\n"
          ]
        }
      ]
    },
    {
      "cell_type": "code",
      "source": [
        "first_letters=sentence[0:4]\n",
        "first_letters"
      ],
      "metadata": {
        "colab": {
          "base_uri": "https://localhost:8080/",
          "height": 35
        },
        "id": "V53vjvCPLHKf",
        "outputId": "e4f9b8fc-1b04-45c2-b368-72afc44196cd"
      },
      "execution_count": 19,
      "outputs": [
        {
          "output_type": "execute_result",
          "data": {
            "text/plain": [
              "\"I'm \""
            ],
            "application/vnd.google.colaboratory.intrinsic+json": {
              "type": "string"
            }
          },
          "metadata": {},
          "execution_count": 19
        }
      ]
    },
    {
      "cell_type": "code",
      "source": [
        "my_list=[1,2,3]\n",
        "\n",
        "if my_list[-1]==3:\n",
        "    print('the condition was true')\n",
        "elif len(my_list)==3:\n",
        "    print('the elif condition is true')\n",
        "else:\n",
        "    print('the condition was false')"
      ],
      "metadata": {
        "colab": {
          "base_uri": "https://localhost:8080/"
        },
        "id": "jHrO4CRrLoy-",
        "outputId": "316dc543-1776-400d-9b27-8a04075af813"
      },
      "execution_count": 20,
      "outputs": [
        {
          "output_type": "stream",
          "name": "stdout",
          "text": [
            "the condition was true\n"
          ]
        }
      ]
    },
    {
      "cell_type": "code",
      "source": [
        "num=input(\"Enter any number: \")\n",
        "length=len(num) #2,3,4\n",
        "if length!=2:\n",
        "    print(False)\n",
        "else:\n",
        "    print(True)"
      ],
      "metadata": {
        "colab": {
          "base_uri": "https://localhost:8080/"
        },
        "id": "iS7i3NhuL3t3",
        "outputId": "69c60c6c-e46a-41fa-f945-9f1bc500bba1"
      },
      "execution_count": 21,
      "outputs": [
        {
          "output_type": "stream",
          "name": "stdout",
          "text": [
            "Enter any number: 6\n",
            "False\n"
          ]
        }
      ]
    },
    {
      "cell_type": "code",
      "source": [
        "age=int(input(\"how old are you? \"))\n",
        "if age>=18:\n",
        "    print(\"Eligible for voting\")\n",
        "else:\n",
        "    print(\"Not eligble for voting\")"
      ],
      "metadata": {
        "colab": {
          "base_uri": "https://localhost:8080/"
        },
        "id": "CkMa446zMJ7v",
        "outputId": "bfa3060f-bcf3-40e2-ed01-c8ab5678abec"
      },
      "execution_count": 25,
      "outputs": [
        {
          "output_type": "stream",
          "name": "stdout",
          "text": [
            "how old are you? 41\n",
            "Eligible for voting\n"
          ]
        }
      ]
    },
    {
      "cell_type": "code",
      "source": [
        "num1= int(input(\"Enter the first number:\"))\n",
        "num2= int(input(\"Enter the second number:\"))\n",
        "if num1>num2:\n",
        "    print(\"Smaller number is:\", num2)\n",
        "else:\n",
        "    print(\"Smaller number is:\", num1)"
      ],
      "metadata": {
        "colab": {
          "base_uri": "https://localhost:8080/"
        },
        "id": "dgm9QWDrMvgv",
        "outputId": "270c86e2-d1c1-4c7a-a62d-fba4df07214d"
      },
      "execution_count": 26,
      "outputs": [
        {
          "output_type": "stream",
          "name": "stdout",
          "text": [
            "Enter the first number:1\n",
            "Enter the second number:4\n",
            "Smaller number is: 1\n"
          ]
        }
      ]
    },
    {
      "cell_type": "code",
      "source": [
        "num= int(input(\"Enter any number:\"))\n",
        "if num>0:\n",
        "    print(f\"{num} is positive\")\n",
        "else:\n",
        "    print(f\"{num} is negative\")"
      ],
      "metadata": {
        "colab": {
          "base_uri": "https://localhost:8080/"
        },
        "id": "TtFMBJHmM8JG",
        "outputId": "539d6296-e1d4-4ebd-d88c-8e5d1ac45edf"
      },
      "execution_count": 27,
      "outputs": [
        {
          "output_type": "stream",
          "name": "stdout",
          "text": [
            "Enter any number:4\n",
            "4 is positive\n"
          ]
        }
      ]
    },
    {
      "cell_type": "code",
      "source": [
        "num= int(input(\"Enter any number:\"))\n",
        "if num%2==0 and num%3==0:\n",
        "    print(f\"{num} is divisible by 2 and 3\")\n",
        "else:\n",
        "    print(f\"{num} is not divisible by both\")"
      ],
      "metadata": {
        "colab": {
          "base_uri": "https://localhost:8080/"
        },
        "id": "KGIf8h3QNBi9",
        "outputId": "b786cce0-c89d-479f-936c-1ea087e54ac2"
      },
      "execution_count": 28,
      "outputs": [
        {
          "output_type": "stream",
          "name": "stdout",
          "text": [
            "Enter any number:7\n",
            "7 is not divisible by both\n"
          ]
        }
      ]
    },
    {
      "cell_type": "code",
      "source": [
        "age = int(input('Enter your age:\\n'))\n",
        "\n",
        "hour = int(input('What is the hour? (0-24)\\n'))\n",
        "\n",
        "is_late = hour >= 22\n",
        "\n",
        "is_too_young = age <= 12\n",
        "\n",
        "if is_late:\n",
        "    if is_too_young:\n",
        "        print('You should be sleeping ...')\n",
        "    else:\n",
        "        print('Want to watch a movie?')\n",
        "else:\n",
        "    print('Go for a walk!')"
      ],
      "metadata": {
        "colab": {
          "base_uri": "https://localhost:8080/"
        },
        "id": "KI10iOaaNK5W",
        "outputId": "35da5258-e46e-4d43-e83f-0728f25a170c"
      },
      "execution_count": 29,
      "outputs": [
        {
          "output_type": "stream",
          "name": "stdout",
          "text": [
            "Enter your age:\n",
            "41\n",
            "What is the hour? (0-24)\n",
            "16\n",
            "Go for a walk!\n"
          ]
        }
      ]
    }
  ]
}